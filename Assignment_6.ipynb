{
  "nbformat": 4,
  "nbformat_minor": 0,
  "metadata": {
    "colab": {
      "provenance": []
    },
    "kernelspec": {
      "name": "python3",
      "display_name": "Python 3"
    },
    "language_info": {
      "name": "python"
    }
  },
  "cells": [
    {
      "cell_type": "markdown",
      "source": [
        "## Assignment 6\n",
        "Data cleaning"
      ],
      "metadata": {
        "id": "_ePOsijaTk11"
      }
    },
    {
      "cell_type": "code",
      "execution_count": null,
      "metadata": {
        "id": "M38glmoATkGA"
      },
      "outputs": [],
      "source": [
        "# read and clean the airbnb.csv dataset\n",
        "\n",
        "# find na values --> replace them \n",
        "# find outliers\n",
        "# do label encoding\n",
        "\n",
        "# data visualization is bonus 25%"
      ]
    },
    {
      "cell_type": "code",
      "source": [
        "from google.colab import drive\n",
        "drive.mount('/content/drive/')"
      ],
      "metadata": {
        "id": "08bj5qBOTt41",
        "colab": {
          "base_uri": "https://localhost:8080/"
        },
        "outputId": "d11a0bc8-7992-4b1a-ac10-3edeed85f5b7"
      },
      "execution_count": null,
      "outputs": [
        {
          "output_type": "stream",
          "name": "stdout",
          "text": [
            "Mounted at /content/drive/\n"
          ]
        }
      ]
    },
    {
      "cell_type": "code",
      "source": [
        "%cd /content/drive/MyDrive/'CSS 328 - Intro to Data analysis course'/'WEEK 10'/"
      ],
      "metadata": {
        "colab": {
          "base_uri": "https://localhost:8080/"
        },
        "id": "bWVgNt4Idf89",
        "outputId": "f23774c2-e5f1-4b98-aa7f-02681a9094cc"
      },
      "execution_count": null,
      "outputs": [
        {
          "output_type": "stream",
          "name": "stdout",
          "text": [
            "/content/drive/MyDrive/CSS 328 - Intro to Data analysis course/WEEK 10\n"
          ]
        }
      ]
    },
    {
      "cell_type": "code",
      "source": [
        "import pandas as pd\n",
        "airbnb = pd.read_csv('airbnb.csv')"
      ],
      "metadata": {
        "id": "WbaGIq0DdjpM"
      },
      "execution_count": null,
      "outputs": []
    },
    {
      "cell_type": "code",
      "source": [
        "airbnb.head()"
      ],
      "metadata": {
        "colab": {
          "base_uri": "https://localhost:8080/",
          "height": 548
        },
        "id": "SZGUkUCWdrdV",
        "outputId": "4e388e7e-0f5c-472a-ace8-9c809e481088"
      },
      "execution_count": null,
      "outputs": [
        {
          "output_type": "execute_result",
          "data": {
            "text/plain": [
              "   Unnamed: 0  listing_id                                               name  \\\n",
              "0           0    13740704  Cozy,budget friendly, cable inc, private entra...   \n",
              "1           1    22005115              Two floor apartment near Central Park   \n",
              "2           2    21667615                  Beautiful 1BR in Brooklyn Heights   \n",
              "3           3     6425850                          Spacious, charming studio   \n",
              "4           4    22986519              Bedroom on the lively Lower East Side   \n",
              "\n",
              "     host_id host_name          neighbourhood_full            coordinates  \\\n",
              "0   20583125    Michel         Brooklyn, Flatlands  (40.63222, -73.93398)   \n",
              "1   82746113   Cecilia  Manhattan, Upper West Side  (40.78761, -73.96862)   \n",
              "2      78251    Leslie  Brooklyn, Brooklyn Heights   (40.7007, -73.99517)   \n",
              "3   32715865    Yelena  Manhattan, Upper West Side  (40.79169, -73.97498)   \n",
              "4  154262349    Brooke  Manhattan, Lower East Side  (40.71884, -73.98354)   \n",
              "\n",
              "         room_type price  number_of_reviews last_review  reviews_per_month  \\\n",
              "0     Private room   45$                 10  2018-12-12               0.70   \n",
              "1  Entire home/apt  135$                  1  2019-06-30               1.00   \n",
              "2  Entire home/apt  150$                  0         NaN                NaN   \n",
              "3  Entire home/apt   86$                  5  2017-09-23               0.13   \n",
              "4     Private room  160$                 23  2019-06-12               2.29   \n",
              "\n",
              "   availability_365    rating  number_of_stays   5_stars listing_added  \n",
              "0                85  4.100954             12.0  0.609432    2018-06-08  \n",
              "1               145  3.367600              1.2  0.746135    2018-12-25  \n",
              "2                65       NaN              NaN       NaN    2018-08-15  \n",
              "3                 0  4.763203              6.0  0.769947    2017-03-20  \n",
              "4               102  3.822591             27.6  0.649383    2020-10-23  "
            ],
            "text/html": [
              "\n",
              "  <div id=\"df-e206734b-abce-4c22-b1c1-a1b317f63d3a\">\n",
              "    <div class=\"colab-df-container\">\n",
              "      <div>\n",
              "<style scoped>\n",
              "    .dataframe tbody tr th:only-of-type {\n",
              "        vertical-align: middle;\n",
              "    }\n",
              "\n",
              "    .dataframe tbody tr th {\n",
              "        vertical-align: top;\n",
              "    }\n",
              "\n",
              "    .dataframe thead th {\n",
              "        text-align: right;\n",
              "    }\n",
              "</style>\n",
              "<table border=\"1\" class=\"dataframe\">\n",
              "  <thead>\n",
              "    <tr style=\"text-align: right;\">\n",
              "      <th></th>\n",
              "      <th>Unnamed: 0</th>\n",
              "      <th>listing_id</th>\n",
              "      <th>name</th>\n",
              "      <th>host_id</th>\n",
              "      <th>host_name</th>\n",
              "      <th>neighbourhood_full</th>\n",
              "      <th>coordinates</th>\n",
              "      <th>room_type</th>\n",
              "      <th>price</th>\n",
              "      <th>number_of_reviews</th>\n",
              "      <th>last_review</th>\n",
              "      <th>reviews_per_month</th>\n",
              "      <th>availability_365</th>\n",
              "      <th>rating</th>\n",
              "      <th>number_of_stays</th>\n",
              "      <th>5_stars</th>\n",
              "      <th>listing_added</th>\n",
              "    </tr>\n",
              "  </thead>\n",
              "  <tbody>\n",
              "    <tr>\n",
              "      <th>0</th>\n",
              "      <td>0</td>\n",
              "      <td>13740704</td>\n",
              "      <td>Cozy,budget friendly, cable inc, private entra...</td>\n",
              "      <td>20583125</td>\n",
              "      <td>Michel</td>\n",
              "      <td>Brooklyn, Flatlands</td>\n",
              "      <td>(40.63222, -73.93398)</td>\n",
              "      <td>Private room</td>\n",
              "      <td>45$</td>\n",
              "      <td>10</td>\n",
              "      <td>2018-12-12</td>\n",
              "      <td>0.70</td>\n",
              "      <td>85</td>\n",
              "      <td>4.100954</td>\n",
              "      <td>12.0</td>\n",
              "      <td>0.609432</td>\n",
              "      <td>2018-06-08</td>\n",
              "    </tr>\n",
              "    <tr>\n",
              "      <th>1</th>\n",
              "      <td>1</td>\n",
              "      <td>22005115</td>\n",
              "      <td>Two floor apartment near Central Park</td>\n",
              "      <td>82746113</td>\n",
              "      <td>Cecilia</td>\n",
              "      <td>Manhattan, Upper West Side</td>\n",
              "      <td>(40.78761, -73.96862)</td>\n",
              "      <td>Entire home/apt</td>\n",
              "      <td>135$</td>\n",
              "      <td>1</td>\n",
              "      <td>2019-06-30</td>\n",
              "      <td>1.00</td>\n",
              "      <td>145</td>\n",
              "      <td>3.367600</td>\n",
              "      <td>1.2</td>\n",
              "      <td>0.746135</td>\n",
              "      <td>2018-12-25</td>\n",
              "    </tr>\n",
              "    <tr>\n",
              "      <th>2</th>\n",
              "      <td>2</td>\n",
              "      <td>21667615</td>\n",
              "      <td>Beautiful 1BR in Brooklyn Heights</td>\n",
              "      <td>78251</td>\n",
              "      <td>Leslie</td>\n",
              "      <td>Brooklyn, Brooklyn Heights</td>\n",
              "      <td>(40.7007, -73.99517)</td>\n",
              "      <td>Entire home/apt</td>\n",
              "      <td>150$</td>\n",
              "      <td>0</td>\n",
              "      <td>NaN</td>\n",
              "      <td>NaN</td>\n",
              "      <td>65</td>\n",
              "      <td>NaN</td>\n",
              "      <td>NaN</td>\n",
              "      <td>NaN</td>\n",
              "      <td>2018-08-15</td>\n",
              "    </tr>\n",
              "    <tr>\n",
              "      <th>3</th>\n",
              "      <td>3</td>\n",
              "      <td>6425850</td>\n",
              "      <td>Spacious, charming studio</td>\n",
              "      <td>32715865</td>\n",
              "      <td>Yelena</td>\n",
              "      <td>Manhattan, Upper West Side</td>\n",
              "      <td>(40.79169, -73.97498)</td>\n",
              "      <td>Entire home/apt</td>\n",
              "      <td>86$</td>\n",
              "      <td>5</td>\n",
              "      <td>2017-09-23</td>\n",
              "      <td>0.13</td>\n",
              "      <td>0</td>\n",
              "      <td>4.763203</td>\n",
              "      <td>6.0</td>\n",
              "      <td>0.769947</td>\n",
              "      <td>2017-03-20</td>\n",
              "    </tr>\n",
              "    <tr>\n",
              "      <th>4</th>\n",
              "      <td>4</td>\n",
              "      <td>22986519</td>\n",
              "      <td>Bedroom on the lively Lower East Side</td>\n",
              "      <td>154262349</td>\n",
              "      <td>Brooke</td>\n",
              "      <td>Manhattan, Lower East Side</td>\n",
              "      <td>(40.71884, -73.98354)</td>\n",
              "      <td>Private room</td>\n",
              "      <td>160$</td>\n",
              "      <td>23</td>\n",
              "      <td>2019-06-12</td>\n",
              "      <td>2.29</td>\n",
              "      <td>102</td>\n",
              "      <td>3.822591</td>\n",
              "      <td>27.6</td>\n",
              "      <td>0.649383</td>\n",
              "      <td>2020-10-23</td>\n",
              "    </tr>\n",
              "  </tbody>\n",
              "</table>\n",
              "</div>\n",
              "      <button class=\"colab-df-convert\" onclick=\"convertToInteractive('df-e206734b-abce-4c22-b1c1-a1b317f63d3a')\"\n",
              "              title=\"Convert this dataframe to an interactive table.\"\n",
              "              style=\"display:none;\">\n",
              "        \n",
              "  <svg xmlns=\"http://www.w3.org/2000/svg\" height=\"24px\"viewBox=\"0 0 24 24\"\n",
              "       width=\"24px\">\n",
              "    <path d=\"M0 0h24v24H0V0z\" fill=\"none\"/>\n",
              "    <path d=\"M18.56 5.44l.94 2.06.94-2.06 2.06-.94-2.06-.94-.94-2.06-.94 2.06-2.06.94zm-11 1L8.5 8.5l.94-2.06 2.06-.94-2.06-.94L8.5 2.5l-.94 2.06-2.06.94zm10 10l.94 2.06.94-2.06 2.06-.94-2.06-.94-.94-2.06-.94 2.06-2.06.94z\"/><path d=\"M17.41 7.96l-1.37-1.37c-.4-.4-.92-.59-1.43-.59-.52 0-1.04.2-1.43.59L10.3 9.45l-7.72 7.72c-.78.78-.78 2.05 0 2.83L4 21.41c.39.39.9.59 1.41.59.51 0 1.02-.2 1.41-.59l7.78-7.78 2.81-2.81c.8-.78.8-2.07 0-2.86zM5.41 20L4 18.59l7.72-7.72 1.47 1.35L5.41 20z\"/>\n",
              "  </svg>\n",
              "      </button>\n",
              "      \n",
              "  <style>\n",
              "    .colab-df-container {\n",
              "      display:flex;\n",
              "      flex-wrap:wrap;\n",
              "      gap: 12px;\n",
              "    }\n",
              "\n",
              "    .colab-df-convert {\n",
              "      background-color: #E8F0FE;\n",
              "      border: none;\n",
              "      border-radius: 50%;\n",
              "      cursor: pointer;\n",
              "      display: none;\n",
              "      fill: #1967D2;\n",
              "      height: 32px;\n",
              "      padding: 0 0 0 0;\n",
              "      width: 32px;\n",
              "    }\n",
              "\n",
              "    .colab-df-convert:hover {\n",
              "      background-color: #E2EBFA;\n",
              "      box-shadow: 0px 1px 2px rgba(60, 64, 67, 0.3), 0px 1px 3px 1px rgba(60, 64, 67, 0.15);\n",
              "      fill: #174EA6;\n",
              "    }\n",
              "\n",
              "    [theme=dark] .colab-df-convert {\n",
              "      background-color: #3B4455;\n",
              "      fill: #D2E3FC;\n",
              "    }\n",
              "\n",
              "    [theme=dark] .colab-df-convert:hover {\n",
              "      background-color: #434B5C;\n",
              "      box-shadow: 0px 1px 3px 1px rgba(0, 0, 0, 0.15);\n",
              "      filter: drop-shadow(0px 1px 2px rgba(0, 0, 0, 0.3));\n",
              "      fill: #FFFFFF;\n",
              "    }\n",
              "  </style>\n",
              "\n",
              "      <script>\n",
              "        const buttonEl =\n",
              "          document.querySelector('#df-e206734b-abce-4c22-b1c1-a1b317f63d3a button.colab-df-convert');\n",
              "        buttonEl.style.display =\n",
              "          google.colab.kernel.accessAllowed ? 'block' : 'none';\n",
              "\n",
              "        async function convertToInteractive(key) {\n",
              "          const element = document.querySelector('#df-e206734b-abce-4c22-b1c1-a1b317f63d3a');\n",
              "          const dataTable =\n",
              "            await google.colab.kernel.invokeFunction('convertToInteractive',\n",
              "                                                     [key], {});\n",
              "          if (!dataTable) return;\n",
              "\n",
              "          const docLinkHtml = 'Like what you see? Visit the ' +\n",
              "            '<a target=\"_blank\" href=https://colab.research.google.com/notebooks/data_table.ipynb>data table notebook</a>'\n",
              "            + ' to learn more about interactive tables.';\n",
              "          element.innerHTML = '';\n",
              "          dataTable['output_type'] = 'display_data';\n",
              "          await google.colab.output.renderOutput(dataTable, element);\n",
              "          const docLink = document.createElement('div');\n",
              "          docLink.innerHTML = docLinkHtml;\n",
              "          element.appendChild(docLink);\n",
              "        }\n",
              "      </script>\n",
              "    </div>\n",
              "  </div>\n",
              "  "
            ]
          },
          "metadata": {},
          "execution_count": 5
        }
      ]
    },
    {
      "cell_type": "code",
      "source": [],
      "metadata": {
        "id": "VcBCMG4Xdt0X"
      },
      "execution_count": null,
      "outputs": []
    }
  ]
}